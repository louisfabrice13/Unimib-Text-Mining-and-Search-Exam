{
  "nbformat": 4,
  "nbformat_minor": 0,
  "metadata": {
    "colab": {
      "name": "TextMiningSearch.ipynb",
      "provenance": [],
      "collapsed_sections": []
    },
    "kernelspec": {
      "name": "python3",
      "display_name": "Python 3"
    }
  },
  "cells": [
    {
      "cell_type": "markdown",
      "metadata": {
        "id": "_QW94NaM8B1l",
        "colab_type": "text"
      },
      "source": [
        "# Text Mining and Search Project\n",
        "## Text Classification and Sentiment Analysis on the 20newsgroups dataset\n",
        "author: Louis Fabrice Tshimanga 847529 l.tshimanga@campus.unimib.it\n",
        "\n",
        "### Tasks:\n",
        "* Preprocessing\n",
        "* **Classification**"
      ]
    },
    {
      "cell_type": "code",
      "metadata": {
        "id": "GCI0Hysy7_0D",
        "colab_type": "code",
        "colab": {}
      },
      "source": [
        "import numpy as np\n",
        "import pandas as pd\n",
        "import matplotlib.pyplot as plt\n",
        "\n",
        "import sklearn\n",
        "from sklearn.utils import shuffle\n",
        "from sklearn.metrics import classification_report, confusion_matrix, accuracy_score\n",
        "from sklearn.feature_extraction.text import TfidfVectorizer\n",
        "from sklearn.model_selection import train_test_split\n",
        "\n",
        "from keras.models import Sequential\n",
        "#from keras.layers import Dense, Dropout, TimeDistributed, Embedding, GRU\n",
        "from tensorflow.keras.preprocessing.text import Tokenizer\n",
        "from keras.preprocessing.sequence import pad_sequences\n"
      ],
      "execution_count": 1,
      "outputs": []
    },
    {
      "cell_type": "code",
      "metadata": {
        "id": "CA82O_Ig-rX1",
        "colab_type": "code",
        "colab": {
          "base_uri": "https://localhost:8080/",
          "height": 357
        },
        "outputId": "08de823a-35d6-49f1-e405-9c4d83d2e56d"
      },
      "source": [
        "# Load the training dataset\n",
        "\n",
        "from sklearn.datasets import fetch_20newsgroups\n",
        "tngds_train = fetch_20newsgroups(subset='train', remove=('headers', 'footers', 'quotes'), shuffle=True)\n",
        "\n",
        "# Check categories\n",
        "tngds_train.target_names "
      ],
      "execution_count": 2,
      "outputs": [
        {
          "output_type": "execute_result",
          "data": {
            "text/plain": [
              "['alt.atheism',\n",
              " 'comp.graphics',\n",
              " 'comp.os.ms-windows.misc',\n",
              " 'comp.sys.ibm.pc.hardware',\n",
              " 'comp.sys.mac.hardware',\n",
              " 'comp.windows.x',\n",
              " 'misc.forsale',\n",
              " 'rec.autos',\n",
              " 'rec.motorcycles',\n",
              " 'rec.sport.baseball',\n",
              " 'rec.sport.hockey',\n",
              " 'sci.crypt',\n",
              " 'sci.electronics',\n",
              " 'sci.med',\n",
              " 'sci.space',\n",
              " 'soc.religion.christian',\n",
              " 'talk.politics.guns',\n",
              " 'talk.politics.mideast',\n",
              " 'talk.politics.misc',\n",
              " 'talk.religion.misc']"
            ]
          },
          "metadata": {
            "tags": []
          },
          "execution_count": 2
        }
      ]
    },
    {
      "cell_type": "code",
      "metadata": {
        "id": "PGjfW01u_NAP",
        "colab_type": "code",
        "colab": {
          "base_uri": "https://localhost:8080/",
          "height": 136
        },
        "outputId": "7bbee965-3abf-48e1-c2ca-91534225293f"
      },
      "source": [
        "# Print part of an instance\n",
        "print(\"\\n\".join(tngds_train.data[0].split(\"\\n\")[:10]))"
      ],
      "execution_count": 3,
      "outputs": [
        {
          "output_type": "stream",
          "text": [
            "I was wondering if anyone out there could enlighten me on this car I saw\n",
            "the other day. It was a 2-door sports car, looked to be from the late 60s/\n",
            "early 70s. It was called a Bricklin. The doors were really small. In addition,\n",
            "the front bumper was separate from the rest of the body. This is \n",
            "all I know. If anyone can tellme a model name, engine specs, years\n",
            "of production, where this car is made, history, or whatever info you\n",
            "have on this funky looking car, please e-mail.\n"
          ],
          "name": "stdout"
        }
      ]
    },
    {
      "cell_type": "code",
      "metadata": {
        "id": "2dGOQ0f6AANz",
        "colab_type": "code",
        "colab": {
          "base_uri": "https://localhost:8080/",
          "height": 34
        },
        "outputId": "6a48383e-e17b-42c0-ca52-a1595a1888ed"
      },
      "source": [
        "# Build feature vectors where each document is put as a vector of tf-idf values by its word content\n",
        "vectorizer = TfidfVectorizer()\n",
        "vectors_train = vectorizer.fit_transform(tngds_train.data)\n",
        "vectors_train.shape"
      ],
      "execution_count": 4,
      "outputs": [
        {
          "output_type": "execute_result",
          "data": {
            "text/plain": [
              "(11314, 101631)"
            ]
          },
          "metadata": {
            "tags": []
          },
          "execution_count": 4
        }
      ]
    },
    {
      "cell_type": "code",
      "metadata": {
        "id": "I4obTD7vArib",
        "colab_type": "code",
        "colab": {
          "base_uri": "https://localhost:8080/",
          "height": 34
        },
        "outputId": "6441668c-721d-440a-f9ec-fd966ddadfdc"
      },
      "source": [
        "# We have 11314 vectors of 101631 word-features, let's check vectors' sparsity\n",
        "vectors_train.nnz / float(vectors_train.shape[0]) # non-zero values / number of vectors\n",
        "# result is average nnz values in each vector"
      ],
      "execution_count": 5,
      "outputs": [
        {
          "output_type": "execute_result",
          "data": {
            "text/plain": [
              "97.54525366802191"
            ]
          },
          "metadata": {
            "tags": []
          },
          "execution_count": 5
        }
      ]
    },
    {
      "cell_type": "code",
      "metadata": {
        "id": "pdFl2BfgBVHo",
        "colab_type": "code",
        "colab": {}
      },
      "source": [
        "# Define a pipeline for transforming and training an ML algo\n",
        "from sklearn.pipeline import Pipeline\n",
        "from sklearn.linear_model import SGDClassifier # SVM model for multiple classes\n",
        "text_clf = Pipeline([\n",
        "                     ('tfidfvect', vectorizer),\n",
        "                     ('clf', SGDClassifier(loss='hinge', penalty='l2',alpha=1e-3, random_state=13,max_iter=10, tol=None))\n",
        "])"
      ],
      "execution_count": 6,
      "outputs": []
    },
    {
      "cell_type": "code",
      "metadata": {
        "id": "t0L5dvaDBqaM",
        "colab_type": "code",
        "colab": {
          "base_uri": "https://localhost:8080/",
          "height": 34
        },
        "outputId": "1a10aa63-38cc-4094-9891-3cd13e6fe225"
      },
      "source": [
        "text_clf.fit(tngds_train.data, tngds_train.target) # training of the SVM\n",
        "\n",
        "tngds_test = fetch_20newsgroups(subset='test', remove=('headers', 'footers', 'quotes'), shuffle=True) # test set loading\n",
        "data_test = tngds_test.data\n",
        "\n",
        "predicted = text_clf.predict(data_test) # classification\n",
        "np.mean(predicted == tngds_test.target) # pure accuracy"
      ],
      "execution_count": 7,
      "outputs": [
        {
          "output_type": "execute_result",
          "data": {
            "text/plain": [
              "0.6838821030270844"
            ]
          },
          "metadata": {
            "tags": []
          },
          "execution_count": 7
        }
      ]
    },
    {
      "cell_type": "code",
      "metadata": {
        "id": "-GTCApGsH0pu",
        "colab_type": "code",
        "colab": {
          "base_uri": "https://localhost:8080/",
          "height": 795
        },
        "outputId": "aea47e69-786f-4dba-e32b-176ba7b2f773"
      },
      "source": [
        "print(classification_report(tngds_test.target, predicted, target_names=tngds_test.target_names))\n",
        "cf_matrix = confusion_matrix(tngds_test.target, predicted)\n",
        "import seaborn as sns\n",
        "sns.heatmap(cf_matrix, annot=False)"
      ],
      "execution_count": 8,
      "outputs": [
        {
          "output_type": "stream",
          "text": [
            "                          precision    recall  f1-score   support\n",
            "\n",
            "             alt.atheism       0.57      0.40      0.47       319\n",
            "           comp.graphics       0.70      0.66      0.68       389\n",
            " comp.os.ms-windows.misc       0.64      0.62      0.63       394\n",
            "comp.sys.ibm.pc.hardware       0.69      0.62      0.65       392\n",
            "   comp.sys.mac.hardware       0.74      0.70      0.72       385\n",
            "          comp.windows.x       0.75      0.72      0.73       395\n",
            "            misc.forsale       0.48      0.85      0.61       390\n",
            "               rec.autos       0.78      0.70      0.74       396\n",
            "         rec.motorcycles       0.77      0.77      0.77       398\n",
            "      rec.sport.baseball       0.81      0.78      0.80       397\n",
            "        rec.sport.hockey       0.80      0.91      0.85       399\n",
            "               sci.crypt       0.71      0.74      0.72       396\n",
            "         sci.electronics       0.67      0.49      0.57       393\n",
            "                 sci.med       0.73      0.79      0.76       396\n",
            "               sci.space       0.69      0.77      0.73       394\n",
            "  soc.religion.christian       0.59      0.83      0.69       398\n",
            "      talk.politics.guns       0.58      0.68      0.62       364\n",
            "   talk.politics.mideast       0.75      0.83      0.79       376\n",
            "      talk.politics.misc       0.69      0.36      0.47       310\n",
            "      talk.religion.misc       0.53      0.15      0.23       251\n",
            "\n",
            "                accuracy                           0.68      7532\n",
            "               macro avg       0.68      0.67      0.66      7532\n",
            "            weighted avg       0.69      0.68      0.67      7532\n",
            "\n"
          ],
          "name": "stdout"
        },
        {
          "output_type": "stream",
          "text": [
            "/usr/local/lib/python3.6/dist-packages/statsmodels/tools/_testing.py:19: FutureWarning: pandas.util.testing is deprecated. Use the functions in the public API at pandas.testing instead.\n",
            "  import pandas.util.testing as tm\n"
          ],
          "name": "stderr"
        },
        {
          "output_type": "execute_result",
          "data": {
            "text/plain": [
              "<matplotlib.axes._subplots.AxesSubplot at 0x7f3276c03550>"
            ]
          },
          "metadata": {
            "tags": []
          },
          "execution_count": 8
        },
        {
          "output_type": "display_data",
          "data": {
            "image/png": "[encoded data removed]",
            "text/plain": [
              "<Figure size 432x288 with 2 Axes>"
            ]
          },
          "metadata": {
            "tags": [],
            "needs_background": "light"
          }
        }
      ]
    },
    {
      "cell_type": "markdown",
      "metadata": {
        "id": "CO6syvyJJubi",
        "colab_type": "text"
      },
      "source": [
        "Now let's pre-process properly our documents, removing stop-words, tokenizing, normalizing and so on."
      ]
    },
    {
      "cell_type": "code",
      "metadata": {
        "id": "NP6bLsOBTSEP",
        "colab_type": "code",
        "colab": {
          "base_uri": "https://localhost:8080/",
          "height": 34
        },
        "outputId": "deff85b8-26be-4965-9cad-1fbf0bd1c1a8"
      },
      "source": [
        "text_clf2 = Pipeline([\n",
        "                     ('tfidfvect', TfidfVectorizer(strip_accents='unicode', stop_words='english', max_features=20000)),\n",
        "                     ('clf', SGDClassifier(loss='hinge', penalty='l2',alpha=1e-3, random_state=13,max_iter=10, tol=None))\n",
        "])\n",
        "text_clf2.fit(tngds_train.data, tngds_train.target) # training of the SVM\n",
        "\n",
        "predicted = text_clf2.predict(data_test) # classification\n",
        "np.mean(predicted == tngds_test.target) # pure accuracy"
      ],
      "execution_count": 9,
      "outputs": [
        {
          "output_type": "execute_result",
          "data": {
            "text/plain": [
              "0.679368029739777"
            ]
          },
          "metadata": {
            "tags": []
          },
          "execution_count": 9
        }
      ]
    },
    {
      "cell_type": "code",
      "metadata": {
        "id": "VBOD2hLNUDH6",
        "colab_type": "code",
        "colab": {}
      },
      "source": [
        "# Tokenizing\n",
        "from nltk.tokenize import WhitespaceTokenizer\n",
        "def mytokenizer(text):\n",
        "    tokenizer = WhitespaceTokenizer()\n",
        "    tokenized_list = tokenizer.tokenize(text) \n",
        "    return tokenized_list\n",
        "\n",
        "# Stemming\n",
        "from nltk.stem.snowball import SnowballStemmer\n",
        "def mystemmer(text):\n",
        "    snowball = SnowballStemmer(language='english')\n",
        "    stemlist = []\n",
        "    for i in range(len(text)):\n",
        "        stemlist.append(snowball.stem(text[i]))\n",
        "    return str(stemlist)\n",
        "# \n",
        "\n",
        "# Make functions as pipelines\n",
        "# Adapted from https://ryan-cranfill.github.io/sentiment-pipeline-sklearn-3/\n",
        "from sklearn.preprocessing import FunctionTransformer\n",
        "def pipelinize(function, active=True):\n",
        "    def list_comprehend_a_function(list_or_series, active=True):\n",
        "        if active:\n",
        "            return [function(i) for i in list_or_series]\n",
        "        else: # if it's not active, just pass it right back\n",
        "            return list_or_series\n",
        "    return FunctionTransformer(list_comprehend_a_function, validate=False, kw_args={'active':active})\n",
        "  \n",
        "fullprocess_clf = [ ('tokenizer', pipelinize(mytokenizer)),\n",
        "              ('stemmer', pipelinize(mystemmer)),\n",
        "              ('tfidfvect', TfidfVectorizer(strip_accents='unicode', stop_words='english', max_features=20000)),\n",
        "              ('clf', SGDClassifier(loss='hinge', penalty='l2',alpha=1e-3, random_state=13,max_iter=10, tol=None))]\n",
        "\n",
        "preprocess = [ ('tokenizer', pipelinize(mytokenizer)),\n",
        "              ('stemmer', pipelinize(mystemmer)),\n",
        "              ('tfidfvect', TfidfVectorizer(strip_accents='unicode', stop_words='english', max_features=20000))]"
      ],
      "execution_count": 10,
      "outputs": []
    },
    {
      "cell_type": "code",
      "metadata": {
        "id": "KZA2mH_U8Mpq",
        "colab_type": "code",
        "colab": {
          "base_uri": "https://localhost:8080/",
          "height": 34
        },
        "outputId": "9f5e985e-d344-49c9-98c1-dd45b06e3adc"
      },
      "source": [
        "text_clf3 = Pipeline(fullprocess_clf)\n",
        "text_clf3.fit(tngds_train.data, tngds_train.target) # training of the SVM\n",
        "\n",
        "predicted = text_clf3.predict(data_test) # classification\n",
        "np.mean(predicted == tngds_test.target) # pure accuracy"
      ],
      "execution_count": 11,
      "outputs": [
        {
          "output_type": "execute_result",
          "data": {
            "text/plain": [
              "0.6768454593733404"
            ]
          },
          "metadata": {
            "tags": []
          },
          "execution_count": 11
        }
      ]
    },
    {
      "cell_type": "code",
      "metadata": {
        "id": "AYewXUj591k-",
        "colab_type": "code",
        "colab": {
          "base_uri": "https://localhost:8080/",
          "height": 741
        },
        "outputId": "0f789fb2-d156-48cb-f211-ecd06651d59f"
      },
      "source": [
        "print(classification_report(tngds_test.target, predicted, target_names=tngds_test.target_names))\n",
        "cf_matrix = confusion_matrix(tngds_test.target, predicted)\n",
        "sns.heatmap(cf_matrix, annot=False)"
      ],
      "execution_count": 12,
      "outputs": [
        {
          "output_type": "stream",
          "text": [
            "                          precision    recall  f1-score   support\n",
            "\n",
            "             alt.atheism       0.60      0.40      0.48       319\n",
            "           comp.graphics       0.67      0.66      0.67       389\n",
            " comp.os.ms-windows.misc       0.65      0.57      0.61       394\n",
            "comp.sys.ibm.pc.hardware       0.70      0.62      0.66       392\n",
            "   comp.sys.mac.hardware       0.69      0.71      0.70       385\n",
            "          comp.windows.x       0.77      0.75      0.76       395\n",
            "            misc.forsale       0.69      0.77      0.73       390\n",
            "               rec.autos       0.75      0.70      0.73       396\n",
            "         rec.motorcycles       0.49      0.76      0.60       398\n",
            "      rec.sport.baseball       0.81      0.79      0.80       397\n",
            "        rec.sport.hockey       0.78      0.92      0.84       399\n",
            "               sci.crypt       0.71      0.73      0.72       396\n",
            "         sci.electronics       0.64      0.49      0.55       393\n",
            "                 sci.med       0.75      0.79      0.77       396\n",
            "               sci.space       0.71      0.75      0.73       394\n",
            "  soc.religion.christian       0.58      0.83      0.69       398\n",
            "      talk.politics.guns       0.56      0.65      0.60       364\n",
            "   talk.politics.mideast       0.74      0.82      0.78       376\n",
            "      talk.politics.misc       0.69      0.39      0.50       310\n",
            "      talk.religion.misc       0.44      0.11      0.18       251\n",
            "\n",
            "                accuracy                           0.68      7532\n",
            "               macro avg       0.67      0.66      0.65      7532\n",
            "            weighted avg       0.68      0.68      0.67      7532\n",
            "\n"
          ],
          "name": "stdout"
        },
        {
          "output_type": "execute_result",
          "data": {
            "text/plain": [
              "<matplotlib.axes._subplots.AxesSubplot at 0x7f326c5fe8d0>"
            ]
          },
          "metadata": {
            "tags": []
          },
          "execution_count": 12
        },
        {
          "output_type": "display_data",
          "data": {
            "image/png": "[encoded data removed]",
            "text/plain": [
              "<Figure size 432x288 with 2 Axes>"
            ]
          },
          "metadata": {
            "tags": [],
            "needs_background": "light"
          }
        }
      ]
    },
    {
      "cell_type": "code",
      "metadata": {
        "id": "5vgxlaQ6KTtt",
        "colab_type": "code",
        "colab": {
          "base_uri": "https://localhost:8080/",
          "height": 697
        },
        "outputId": "7490fe73-3a2e-411f-86ce-cfa9d711c612"
      },
      "source": [
        "print(cf_matrix)"
      ],
      "execution_count": 13,
      "outputs": [
        {
          "output_type": "stream",
          "text": [
            "[[128   2   0   1   1   3   5   4  14   7   6   4   4   7  18  80   4  16\n",
            "    4  11]\n",
            " [  1 257  21  12   9  28  10   4   9   3   0  12   3   1  14   2   0   2\n",
            "    0   1]\n",
            " [  2  16 224  26  24  23  10   3  19   2   4   8   1   9  10   0   2   5\n",
            "    5   1]\n",
            " [  0   9  36 244  29   9  16   1   8   2   2   7  22   2   2   0   0   1\n",
            "    1   1]\n",
            " [  0   6  10  21 273   3  18   4  17   0   3   7  14   2   5   0   2   0\n",
            "    0   0]\n",
            " [  0  34  26   1   9 295   3   1   7   0   1   4   3   2   8   0   0   1\n",
            "    0   0]\n",
            " [  1   4   2  19  15   0 302  12  10   2   3   2   5   0   5   2   2   4\n",
            "    0   0]\n",
            " [  1   2   3   0   2   1  11 278  45   5   6   3  16   2   4   0   9   4\n",
            "    2   2]\n",
            " [  0   1   1   1   0   2  11  21 301  10   7   3   9   5   4   6   4   5\n",
            "    5   2]\n",
            " [  1   1   2   1   0   1   2   1  21 314  33   3   1   6   1   4   1   1\n",
            "    3   0]\n",
            " [  0   0   0   1   4   0   0   1  10   5 367   1   1   1   1   2   4   1\n",
            "    0   0]\n",
            " [  4   5   5   2   3   4   7   2  20   6   2 290   7   5   4   2  16   8\n",
            "    3   1]\n",
            " [  2  16   6  16  19   7  22  11  22   4   5  31 192  16  15   0   3   4\n",
            "    1   1]\n",
            " [  1   9   0   1   0   0   8   4  17   2  12   2   6 311   2   9   6   3\n",
            "    2   1]\n",
            " [  2  12   1   1   2   1   4   5  21   9   3   3   8  11 296   5   2   3\n",
            "    4   1]\n",
            " [ 14   1   1   0   0   0   3   0  16   2   1   2   3   3   5 332   3   7\n",
            "    1   4]\n",
            " [  5   4   2   1   4   0   1   6  19   5   3  16   1   9   6  14 238  14\n",
            "   13   3]\n",
            " [ 13   0   1   0   0   2   1   2  12   3   2   3   1   2   0   9  10 307\n",
            "    7   1]\n",
            " [  9   1   0   0   0   2   0   5  13   4   9   6   4  10  13   5  87  15\n",
            "  121   6]\n",
            " [ 30   2   1   0   1   0   5   4   9   5   2   1   1  12   5  98  30  13\n",
            "    4  28]]\n"
          ],
          "name": "stdout"
        }
      ]
    },
    {
      "cell_type": "markdown",
      "metadata": {
        "id": "9Rx1KHe-KNIy",
        "colab_type": "text"
      },
      "source": [
        "It's possible that part of the slight decrease in accuracy was due to preprocessing, particularly stemming, because different topics may be differently using peculiar versions of words from the same root. Another possibility is that the problem is simply not well suited for our classifier model, which is a linear separator.\n",
        "To check for this, we'll implement a very different classifier."
      ]
    },
    {
      "cell_type": "code",
      "metadata": {
        "id": "KcXrxBLnKL_X",
        "colab_type": "code",
        "colab": {
          "base_uri": "https://localhost:8080/",
          "height": 34
        },
        "outputId": "472b1f23-4a8d-4a83-8ed6-925f47a9f266"
      },
      "source": [
        "from sklearn.naive_bayes import MultinomialNB # SVM model for multiple classes\n",
        "text_clf4 = Pipeline([\n",
        "                     ('tfidfvect', vectorizer),\n",
        "                     ('clf', MultinomialNB(0.1))\n",
        "])\n",
        "text_clf4.fit(tngds_train.data, tngds_train.target) # training of NB\n",
        "\n",
        "predicted = text_clf4.predict(data_test) # classification\n",
        "np.mean(predicted == tngds_test.target) # pure accuracy"
      ],
      "execution_count": 14,
      "outputs": [
        {
          "output_type": "execute_result",
          "data": {
            "text/plain": [
              "0.6845459373340415"
            ]
          },
          "metadata": {
            "tags": []
          },
          "execution_count": 14
        }
      ]
    },
    {
      "cell_type": "code",
      "metadata": {
        "id": "whgMXTd6Obud",
        "colab_type": "code",
        "colab": {
          "base_uri": "https://localhost:8080/",
          "height": 34
        },
        "outputId": "76c3dd43-b840-446a-e1ca-0358f6169db7"
      },
      "source": [
        "text_clf5 = Pipeline([\n",
        "                     ('tfidfvect', TfidfVectorizer(strip_accents='unicode', stop_words='english', max_features=20000)),\n",
        "                     ('clf', MultinomialNB(0.1))\n",
        "])\n",
        "text_clf5.fit(tngds_train.data, tngds_train.target) # training of NB\n",
        "\n",
        "predicted = text_clf5.predict(data_test) # classification\n",
        "np.mean(predicted == tngds_test.target) # pure accuracy"
      ],
      "execution_count": 15,
      "outputs": [
        {
          "output_type": "execute_result",
          "data": {
            "text/plain": [
              "0.6976898566117897"
            ]
          },
          "metadata": {
            "tags": []
          },
          "execution_count": 15
        }
      ]
    },
    {
      "cell_type": "code",
      "metadata": {
        "id": "B6mzyRSSPcTW",
        "colab_type": "code",
        "colab": {
          "base_uri": "https://localhost:8080/",
          "height": 34
        },
        "outputId": "0a6a0b89-3f62-4821-f2d0-bf3e46cf5ed6"
      },
      "source": [
        "fullprocess_nb = [ ('tokenizer', pipelinize(mytokenizer)),\n",
        "              ('stemmer', pipelinize(mystemmer)),\n",
        "              ('tfidfvect', TfidfVectorizer(strip_accents='unicode', stop_words='english', max_features=20000)),\n",
        "              ('clf', MultinomialNB(0.1))]\n",
        "text_clf6 = Pipeline(fullprocess_nb)\n",
        "text_clf6.fit(tngds_train.data, tngds_train.target) # training of NB\n",
        "\n",
        "predicted = text_clf6.predict(data_test) # classification\n",
        "np.mean(predicted == tngds_test.target) # pure accuracy"
      ],
      "execution_count": 16,
      "outputs": [
        {
          "output_type": "execute_result",
          "data": {
            "text/plain": [
              "0.6970260223048327"
            ]
          },
          "metadata": {
            "tags": []
          },
          "execution_count": 16
        }
      ]
    },
    {
      "cell_type": "markdown",
      "metadata": {
        "id": "BbxQE_Vkw4eO",
        "colab_type": "text"
      },
      "source": [
        "Stemming is confirmed as a candidate for accuracy decreases. Let's try with Lemmatization instead."
      ]
    },
    {
      "cell_type": "code",
      "metadata": {
        "id": "CIrQHoHaQh35",
        "colab_type": "code",
        "colab": {
          "base_uri": "https://localhost:8080/",
          "height": 68
        },
        "outputId": "2694445f-73ad-4757-cd6a-802d0df2ede8"
      },
      "source": [
        "# Lemmatization\n",
        "import nltk\n",
        "from nltk.stem import WordNetLemmatizer\n",
        "nltk.download('wordnet')\n",
        "def mylemma(text):\n",
        "    lemma = WordNetLemmatizer()\n",
        "    lemlist = []\n",
        "    for i in range(len(text)):\n",
        "        lemlist.append(lemma.lemmatize(text[i]))\n",
        "    return str(lemlist)\n",
        "\n",
        "fullprocess_nb = [ ('tokenizer', pipelinize(mytokenizer)),\n",
        "              ('lemma', pipelinize(mylemma)),\n",
        "              ('tfidfvect', TfidfVectorizer(strip_accents='unicode', stop_words='english', max_features=20000)),\n",
        "              ('clf', MultinomialNB(0.1))]\n",
        "text_clf7 = Pipeline(fullprocess_nb)\n",
        "text_clf7.fit(tngds_train.data, tngds_train.target) # training of NB\n",
        "\n",
        "predicted = text_clf7.predict(data_test) # classification\n",
        "np.mean(predicted == tngds_test.target) # pure accuracy"
      ],
      "execution_count": 17,
      "outputs": [
        {
          "output_type": "stream",
          "text": [
            "[nltk_data] Downloading package wordnet to /root/nltk_data...\n",
            "[nltk_data]   Package wordnet is already up-to-date!\n"
          ],
          "name": "stdout"
        },
        {
          "output_type": "execute_result",
          "data": {
            "text/plain": [
              "0.7003451938396177"
            ]
          },
          "metadata": {
            "tags": []
          },
          "execution_count": 17
        }
      ]
    },
    {
      "cell_type": "markdown",
      "metadata": {
        "id": "0dg-KvNvz5PG",
        "colab_type": "text"
      },
      "source": [
        "Lemmatization actually improves performance (though slightly)!\n",
        "\n",
        "\n",
        "Let's now reduce our problem to a subset of classes chosen in such a way:\n",
        "for every class prefix (identifying a \"supervised cluster\"), select the most numerous class."
      ]
    },
    {
      "cell_type": "code",
      "metadata": {
        "id": "q31xa0qY0Lss",
        "colab_type": "code",
        "colab": {}
      },
      "source": [
        "cats = ['alt.atheism', 'comp.windows.x', 'misc.forsale', 'rec.sport.hockey', 'sci.crypt', 'soc.religion.christian', 'talk.politics.mideast']\n"
      ],
      "execution_count": 18,
      "outputs": []
    },
    {
      "cell_type": "code",
      "metadata": {
        "id": "aMXyo9wJ4NYe",
        "colab_type": "code",
        "colab": {
          "base_uri": "https://localhost:8080/",
          "height": 136
        },
        "outputId": "dae56374-1294-424b-ac93-05844aa93ffa"
      },
      "source": [
        "reduced_train = fetch_20newsgroups(subset='train', categories=cats, remove=('headers', 'footers', 'quotes'), shuffle=True)\n",
        "\n",
        "# Check categories\n",
        "reduced_train.target_names "
      ],
      "execution_count": 19,
      "outputs": [
        {
          "output_type": "execute_result",
          "data": {
            "text/plain": [
              "['alt.atheism',\n",
              " 'comp.windows.x',\n",
              " 'misc.forsale',\n",
              " 'rec.sport.hockey',\n",
              " 'sci.crypt',\n",
              " 'soc.religion.christian',\n",
              " 'talk.politics.mideast']"
            ]
          },
          "metadata": {
            "tags": []
          },
          "execution_count": 19
        }
      ]
    },
    {
      "cell_type": "code",
      "metadata": {
        "id": "hcZQWO4o2LpJ",
        "colab_type": "code",
        "colab": {}
      },
      "source": [
        "reduced_test = fetch_20newsgroups(subset='test', categories=cats, remove=('headers', 'footers', 'quotes'), shuffle=True) # test set loading\n",
        "data_test = reduced_test.data"
      ],
      "execution_count": 20,
      "outputs": []
    },
    {
      "cell_type": "code",
      "metadata": {
        "id": "QDOK8BAh76ZQ",
        "colab_type": "code",
        "colab": {
          "base_uri": "https://localhost:8080/",
          "height": 34
        },
        "outputId": "3cd1d955-861c-4123-b4b3-9a910f9947d3"
      },
      "source": [
        "text_clf8 = Pipeline(fullprocess_nb)\n",
        "text_clf8.fit(reduced_train.data, reduced_train.target) # training of NB\n",
        "\n",
        "predicted = text_clf8.predict(data_test) # classification\n",
        "np.mean(predicted == reduced_test.target) # pure accuracy"
      ],
      "execution_count": 21,
      "outputs": [
        {
          "output_type": "execute_result",
          "data": {
            "text/plain": [
              "0.8451178451178452"
            ]
          },
          "metadata": {
            "tags": []
          },
          "execution_count": 21
        }
      ]
    },
    {
      "cell_type": "code",
      "metadata": {
        "id": "naXnCIva8L89",
        "colab_type": "code",
        "colab": {
          "base_uri": "https://localhost:8080/",
          "height": 520
        },
        "outputId": "eb4abd06-cea4-498b-c238-78cd8b68fd30"
      },
      "source": [
        "print(classification_report(reduced_test.target, predicted, target_names=reduced_test.target_names))\n",
        "cf_matrix = confusion_matrix(reduced_test.target, predicted)\n",
        "sns.heatmap(cf_matrix, annot=False)"
      ],
      "execution_count": 22,
      "outputs": [
        {
          "output_type": "stream",
          "text": [
            "                        precision    recall  f1-score   support\n",
            "\n",
            "           alt.atheism       0.79      0.49      0.61       319\n",
            "        comp.windows.x       0.93      0.91      0.92       395\n",
            "          misc.forsale       0.93      0.92      0.92       390\n",
            "      rec.sport.hockey       0.81      0.96      0.88       399\n",
            "             sci.crypt       0.89      0.83      0.86       396\n",
            "soc.religion.christian       0.71      0.90      0.79       398\n",
            " talk.politics.mideast       0.89      0.84      0.86       376\n",
            "\n",
            "              accuracy                           0.85      2673\n",
            "             macro avg       0.85      0.84      0.83      2673\n",
            "          weighted avg       0.85      0.85      0.84      2673\n",
            "\n"
          ],
          "name": "stdout"
        },
        {
          "output_type": "execute_result",
          "data": {
            "text/plain": [
              "<matplotlib.axes._subplots.AxesSubplot at 0x7f326b961e48>"
            ]
          },
          "metadata": {
            "tags": []
          },
          "execution_count": 22
        },
        {
          "output_type": "display_data",
          "data": {
            "image/png": "[encoded data removed]",
            "text/plain": [
              "<Figure size 432x288 with 2 Axes>"
            ]
          },
          "metadata": {
            "tags": [],
            "needs_background": "light"
          }
        }
      ]
    },
    {
      "cell_type": "code",
      "metadata": {
        "id": "KUlS4FJ085FE",
        "colab_type": "code",
        "colab": {
          "base_uri": "https://localhost:8080/",
          "height": 136
        },
        "outputId": "ed1e72c3-8f67-451d-f3f2-6ae7ae7e04b7"
      },
      "source": [
        "print(cf_matrix)"
      ],
      "execution_count": 23,
      "outputs": [
        {
          "output_type": "stream",
          "text": [
            "[[157   4   2  20   8 104  24]\n",
            " [  0 359  10  11  11   4   0]\n",
            " [  0   4 358  14   7   4   3]\n",
            " [  6   2   0 382   4   4   1]\n",
            " [  6  12  11  22 327   6  12]\n",
            " [ 16   2   4  14   2 359   1]\n",
            " [ 13   3   0   8   8  27 317]]\n"
          ],
          "name": "stdout"
        }
      ]
    },
    {
      "cell_type": "markdown",
      "metadata": {
        "id": "behscJjL9XSE",
        "colab_type": "text"
      },
      "source": [
        "The topical distinction is much improved, the strongest \"unwanted\" correlation is between alt.atheism and soc.religion.christianity.\n",
        "Topic modelling and unsupervised methods may bring a different cathegorization of documents, that might be easier for supervised models to learn and predict on its own. "
      ]
    }
  ]
}